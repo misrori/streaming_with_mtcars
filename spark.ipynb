{
 "cells": [
  {
   "cell_type": "code",
   "execution_count": null,
   "metadata": {
    "collapsed": false,
    "scrolled": true
   },
   "outputs": [],
   "source": [
    "from pyspark import SparkContext\n",
    "from pyspark import SparkConf\n",
    "from numpy import prod\n",
    "\n",
    "conf=SparkConf()\n",
    "conf.set(\"spark.executor.memory\", \"1g\")\n",
    "conf.set(\"spark.cores.max\", \"2\")\n",
    "conf.setAppName(\"first_stream\")\n",
    "sc = SparkContext('local[2]', conf=conf)\n",
    "from pyspark.streaming import StreamingContext\n",
    "\n",
    "#............................................................................\n",
    "##   Streaming with TCP/IP data\n",
    "#............................................................................\n",
    "\n",
    "#Create streaming context with latency of 1\n",
    "streamContext = StreamingContext(sc,1)\n",
    "\n",
    "lines = streamContext.socketTextStream(\"localhost\", 9000)\n",
    "\n",
    "def my_processing(rdd):\n",
    "    a=rdd.map(lambda row:row.split(',')).map(lambda x:x[1])\n",
    "    print(rdd.collect())\n",
    "    print(a.collect())\n",
    "    \n",
    "lines.foreachRDD(my_processing)\n",
    "\n",
    "streamContext.start()\n",
    "\n",
    "\n"
   ]
  },
  {
   "cell_type": "code",
   "execution_count": null,
   "metadata": {
    "collapsed": false
   },
   "outputs": [],
   "source": []
  },
  {
   "cell_type": "code",
   "execution_count": null,
   "metadata": {
    "collapsed": true
   },
   "outputs": [],
   "source": []
  }
 ],
 "metadata": {
  "anaconda-cloud": {},
  "kernelspec": {
   "display_name": "Python [default]",
   "language": "python",
   "name": "python3"
  },
  "language_info": {
   "codemirror_mode": {
    "name": "ipython",
    "version": 3
   },
   "file_extension": ".py",
   "mimetype": "text/x-python",
   "name": "python",
   "nbconvert_exporter": "python",
   "pygments_lexer": "ipython3",
   "version": "3.5.2"
  }
 },
 "nbformat": 4,
 "nbformat_minor": 1
}
